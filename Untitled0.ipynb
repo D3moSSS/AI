{
  "nbformat": 4,
  "nbformat_minor": 0,
  "metadata": {
    "colab": {
      "provenance": [],
      "authorship_tag": "ABX9TyOpMiYxCQmbi1MJnQPvoiTN",
      "include_colab_link": true
    },
    "kernelspec": {
      "name": "python3",
      "display_name": "Python 3"
    },
    "language_info": {
      "name": "python"
    }
  },
  "cells": [
    {
      "cell_type": "markdown",
      "metadata": {
        "id": "view-in-github",
        "colab_type": "text"
      },
      "source": [
        "<a href=\"https://colab.research.google.com/github/D3moSSS/AI/blob/main/Untitled0.ipynb\" target=\"_parent\"><img src=\"https://colab.research.google.com/assets/colab-badge.svg\" alt=\"Open In Colab\"/></a>"
      ]
    },
    {
      "cell_type": "code",
      "execution_count": 3,
      "metadata": {
        "id": "lSH3IedE0nLP"
      },
      "outputs": [],
      "source": [
        "from datetime import date\n",
        "import numpy\n",
        "import pandas as panda\n",
        "import pandas as pd\n",
        "from pandas import Series\n",
        "\n",
        "import csv\n",
        "import matplotlib.pyplot as plt\n",
        "from math import log, sqrt"
      ]
    },
    {
      "cell_type": "markdown",
      "source": [],
      "metadata": {
        "id": "1obkaxHX02QW"
      }
    },
    {
      "cell_type": "code",
      "source": [
        "filename = \"../surveyDataSience.csv\"\n",
        "data = pd.read_csv(filename)\n",
        "\n",
        "# return: numarul de respondenti\n",
        "def getNr():\n",
        "    return len(data)\n",
        "\n",
        "# Eliminăm primul rând care conține întrebările\n",
        "data_cleaned = data.iloc[1:].reset_index(drop=True)\n",
        "\n",
        "# 1. Numărul și tipul informațiilor (atributelor) deținute pentru un respondent\n",
        "num_atribute = data_cleaned.shape[1]  # Numărul total de coloane\n",
        "tip_atribute = data_cleaned.dtypes  # Tipul fiecărei coloane\n",
        "\n",
        "# 2. Numărul de respondenți pentru care se dețin date complete (fără valori lipsă)\n",
        "num_respondenti_complete = data_cleaned.dropna().shape[0]\n",
        "\n",
        "print(\"Numarul de respondenti:\" , getNr())\n",
        "# Afișăm rezultatele\n",
        "print(f\"Numărul total de atribute per respondent: {num_atribute}\")\n",
        "print(\"Tipurile de date pentru fiecare atribut:\\n\", tip_atribute)\n",
        "print(f\"Numărul de respondenți cu date complete: {num_respondenti_complete}\")\n",
        "\n",
        "# Dicționar pentru conversia nivelului de studii în ani\n",
        "mapare_studii = {\n",
        "    \"Bachelor’s degree\": 3,\n",
        "    \"Master’s degree\": 5,  # 3 ani licență + 2 ani master\n",
        "    \"Doctoral degree\": 8  # 3 ani licență + 2 ani master + 3 ani doctorat\n",
        "}\n",
        "\n",
        "# Convertim nivelurile de educație în ani de studii\n",
        "data_cleaned['Ani_Studii'] = data_cleaned['Q4'].map(mapare_studii).fillna(0).astype(int)\n",
        "\n",
        "# Durata medie a studiilor pentru toți respondenții\n",
        "media_generala = data_cleaned['Ani_Studii'].mean()\n",
        "\n",
        "# Durata medie pentru respondenții din România\n",
        "media_romania = data_cleaned[data_cleaned['Q3'] == 'Romania']['Ani_Studii'].mean()\n",
        "\n",
        "# Durata medie pentru femeile din România\n",
        "media_romania_femei = data_cleaned[(data_cleaned['Q3'] == 'Romania') & (data_cleaned['Q2'] == 'Woman')]['Ani_Studii'].mean()\n",
        "\n",
        "# Afișăm rezultatele\n",
        "print(f\"Durata medie a studiilor pentru toți respondenții: {media_generala:.2f} ani\")\n",
        "print(f\"Durata medie a studiilor pentru respondenții din România: {media_romania:.2f} ani\")\n",
        "print(f\"Durata medie a studiilor pentru femeile din România: {media_romania_femei:.2f} ani\")\n",
        "\n",
        "filter_data_Python = data_cleaned[(data_cleaned['Q7_Part_1'] == \"Python\") & (data_cleaned['Q2'] == \"Woman\")]\n",
        "print(f\"Numarul de femei din Romania care programeaza in Python : {len(filter_data_Python)}\")\n",
        "\n",
        "frecvente = filter_data_Python['Q1'].value_counts()\n",
        "\n",
        "cel_mai_frecvent_interval = frecvente.idxmax()\n",
        "print(f\"Intervalul de varsta cu cele mai multe femei care programeaza in Python : {cel_mai_frecvent_interval} \")\n",
        "\n",
        "filter_data_C = data_cleaned[(data_cleaned['Q7_Part_5'] == \"C++\") & (data_cleaned['Q2'] == \"Woman\")]\n",
        "\n",
        "print(f\"Numarul de femei din Romania care programeaza in C++ : {len(filter_data_C)}\")\n",
        "\n",
        "frecvente = filter_data_C['Q1'].value_counts()\n",
        "\n",
        "cel_mai_frecvent_interval = frecvente.idxmax()\n",
        "print(f\"Intervalul de varsta cu cele mai multe femei care programeaza in C++ : {cel_mai_frecvent_interval} \")\n",
        "\n",
        "print(data_cleaned['Q6'])\n",
        "\n",
        "\n",
        "interval_map = {\n",
        "    '20+ years': 20,  # presupunem că 20+ reprezintă 20 de ani\n",
        "    'I have never written code': 0,  # tratăm această valoare ca NaN\n",
        "    '< 1 years': 0.5,  # 0.5 ani pentru \"< 1 years\"\n",
        "    '1-3 years': 2,  # mijlocul intervalului 1-3 ani\n",
        "    '5-10 years': 7.5,  # mijlocul intervalului 5-10 ani\n",
        "    '10-20 years': 15,  # mijlocul intervalului 10-20 ani\n",
        "    '3-5 years': 4  # mijlocul intervalului 3-5 ani\n",
        "}\n",
        "\n",
        "data_cleaned['vechime_ani'] = data_cleaned['Q6'].map(interval_map)\n",
        "print(data_cleaned['vechime_ani'])\n",
        "\n",
        "statistici = data_cleaned['vechime_ani'].describe()\n",
        "print(statistici)\n",
        "\n"
      ],
      "metadata": {
        "colab": {
          "base_uri": "https://localhost:8080/"
        },
        "id": "3Ad2IX7v02qg",
        "outputId": "4c220fd4-de56-463d-c5fa-79dd37102c8d"
      },
      "execution_count": 28,
      "outputs": [
        {
          "output_type": "stream",
          "name": "stderr",
          "text": [
            "<ipython-input-28-ccef3d106eb8>:2: DtypeWarning: Columns (0,18,32,49,56,69,88,100,107,113,139,184,195,201,202,253,266,278,283,285,286,287,288,289,290,291,292,301,322,339,347,355,367) have mixed types. Specify dtype option on import or set low_memory=False.\n",
            "  data = pd.read_csv(filename)\n"
          ]
        },
        {
          "output_type": "stream",
          "name": "stdout",
          "text": [
            "Numarul de respondenti: 25974\n",
            "Numărul total de atribute per respondent: 369\n",
            "Tipurile de date pentru fiecare atribut:\n",
            " Time from Start to Finish (seconds)    object\n",
            "Q1                                     object\n",
            "Q2                                     object\n",
            "Q3                                     object\n",
            "Q4                                     object\n",
            "                                        ...  \n",
            "Q38_B_Part_8                           object\n",
            "Q38_B_Part_9                           object\n",
            "Q38_B_Part_10                          object\n",
            "Q38_B_Part_11                          object\n",
            "Q38_B_OTHER                            object\n",
            "Length: 369, dtype: object\n",
            "Numărul de respondenți cu date complete: 0\n",
            "Durata medie a studiilor pentru toți respondenții: 3.96 ani\n",
            "Durata medie a studiilor pentru respondenții din România: 4.16 ani\n",
            "Durata medie a studiilor pentru femeile din România: 4.75 ani\n",
            "Numarul de femei din Romania care programeaza in Python : 3877\n",
            "Intervalul de varsta cu cele mai multe femei care programeaza in Python : 18-21 \n",
            "Numarul de femei din Romania care programeaza in C++ : 972\n",
            "Intervalul de varsta cu cele mai multe femei care programeaza in C++ : 18-21 \n",
            "0                       5-10 years\n",
            "1                        20+ years\n",
            "2                        1-3 years\n",
            "3                        20+ years\n",
            "4                        < 1 years\n",
            "                   ...            \n",
            "25968                    1-3 years\n",
            "25969                    1-3 years\n",
            "25970    I have never written code\n",
            "25971                   5-10 years\n",
            "25972    I have never written code\n",
            "Name: Q6, Length: 25973, dtype: object\n",
            "0         7.5\n",
            "1        20.0\n",
            "2         2.0\n",
            "3        20.0\n",
            "4         0.5\n",
            "         ... \n",
            "25968     2.0\n",
            "25969     2.0\n",
            "25970     0.0\n",
            "25971     7.5\n",
            "25972     0.0\n",
            "Name: vechime_ani, Length: 25973, dtype: float64\n",
            "count    25973.000000\n",
            "mean         4.922997\n",
            "std          5.801440\n",
            "min          0.000000\n",
            "25%          0.500000\n",
            "50%          2.000000\n",
            "75%          7.500000\n",
            "max         20.000000\n",
            "Name: vechime_ani, dtype: float64\n"
          ]
        }
      ]
    }
  ]
}